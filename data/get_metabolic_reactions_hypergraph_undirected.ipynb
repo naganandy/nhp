{
 "cells": [
  {
   "cell_type": "markdown",
   "metadata": {
    "nbpresent": {
     "id": "3b735350-ee67-4ffa-83fb-63550d445cdd"
    }
   },
   "source": [
    "# set dataset"
   ]
  },
  {
   "cell_type": "code",
   "execution_count": 2,
   "metadata": {
    "nbpresent": {
     "id": "31f866be-f21a-4b7b-98f8-5e0fd4e2c828"
    }
   },
   "outputs": [],
   "source": [
    "alp = \"b\""
   ]
  },
  {
   "cell_type": "markdown",
   "metadata": {
    "nbpresent": {
     "id": "2542bc4f-684d-4980-acea-f7240597d2fd"
    }
   },
   "source": [
    "# load dataset"
   ]
  },
  {
   "cell_type": "code",
   "execution_count": 3,
   "metadata": {
    "nbpresent": {
     "id": "8e72a5c9-d1ba-47f3-989f-b31cc93e1205"
    }
   },
   "outputs": [],
   "source": [
    "import scipy.io\n",
    "\n",
    "alp2data = {\"a\": \"iJO1366\", \"b\": \"iAF1260b\", \"c\": \"iAF692\", \"d\": \"iHN637\"}\n",
    "datafile = \"./reactionsU/\" + alp2data[alp] + \"/\" + alp2data[alp] + \".mat\"\n",
    "loaded = scipy.io.loadmat(datafile)"
   ]
  },
  {
   "cell_type": "markdown",
   "metadata": {
    "nbpresent": {
     "id": "8f8a1498-34b5-4315-9b3d-6cff6735b025"
    }
   },
   "source": [
    "# indices of hyperlinks and candidates in data"
   ]
  },
  {
   "cell_type": "code",
   "execution_count": 4,
   "metadata": {
    "nbpresent": {
     "id": "7a5aeb8b-3a59-4e82-a2bb-dd16eb00ce2f"
    }
   },
   "outputs": [],
   "source": [
    "if alp == \"a\" or alp == \"c\" or alp == \"d\":\n",
    "    hi = 10\n",
    "    ci = 17\n",
    "elif alp == \"b\":\n",
    "    hi = 11\n",
    "    ci = 18"
   ]
  },
  {
   "cell_type": "markdown",
   "metadata": {
    "nbpresent": {
     "id": "c948c063-f2e2-46e8-9a44-7732d2a3872e"
    }
   },
   "source": [
    "# get hyperlinks and candidates"
   ]
  },
  {
   "cell_type": "code",
   "execution_count": 5,
   "metadata": {
    "nbpresent": {
     "id": "0acaea28-39a5-480e-a9c9-96d042c5996c"
    }
   },
   "outputs": [],
   "source": [
    "import numpy as np\n",
    "\n",
    "data = loaded['Model'][0][0]\n",
    "hyperlinks = np.array(data[hi].toarray())\n",
    "candidates = data[ci]"
   ]
  },
  {
   "cell_type": "markdown",
   "metadata": {
    "nbpresent": {
     "id": "a45274f2-4ab1-47f8-94ab-e96e148d4c6e"
    }
   },
   "source": [
    "# get the directed hypergraph for a stoichiometric matrix"
   ]
  },
  {
   "cell_type": "code",
   "execution_count": 6,
   "metadata": {},
   "outputs": [
    {
     "name": "stderr",
     "output_type": "stream",
     "text": [
      "100%|██████████| 2388/2388 [00:02<00:00, 1084.24it/s]\n",
      "100%|██████████| 3630/3630 [00:03<00:00, 1023.65it/s]\n"
     ]
    }
   ],
   "source": [
    "from tqdm import tqdm\n",
    "def getUndirectedHypergraph(stoichiometric_matrix):\n",
    "    dic_dir = {}\n",
    "    for j in tqdm(range(stoichiometric_matrix.shape[1])):\n",
    "        pos, neg = [], []\n",
    "        for i in range(stoichiometric_matrix.shape[0]):\n",
    "            entry = stoichiometric_matrix[i][j]\n",
    "            if entry < 0:\n",
    "                neg.append(i)\n",
    "            elif entry > 0:\n",
    "                pos.append(i)\n",
    "        k = str(j)\n",
    "        dic_dir[k] = neg+pos\n",
    "    return  dic_dir\n",
    "\n",
    "udhyperlinks = getUndirectedHypergraph(hyperlinks)\n",
    "udcandidates = getUndirectedHypergraph(candidates)"
   ]
  },
  {
   "cell_type": "markdown",
   "metadata": {
    "nbpresent": {
     "id": "cf09cf8c-4ea5-4432-81cf-5813083620ab"
    }
   },
   "source": [
    "# get hits and misses of hyperlinks in candidates"
   ]
  },
  {
   "cell_type": "code",
   "execution_count": 7,
   "metadata": {
    "nbpresent": {
     "id": "f1bf80d8-208c-4ce4-9eb0-0ba0739fc7b6"
    }
   },
   "outputs": [
    {
     "name": "stdout",
     "output_type": "stream",
     "text": [
      "getting all indices of hyperlinks in candidates\n"
     ]
    }
   ],
   "source": [
    "import collections\n",
    "from tqdm import tqdm\n",
    "\n",
    "def getHitsandMisses(udhyperlinks, udcandidates):\n",
    "    compare = lambda x, y: collections.Counter(x) == collections.Counter(y)\n",
    "    ckeys = list(udcandidates.keys())\n",
    "    hkeys = list(udhyperlinks.keys())\n",
    "    hits, misses, rep, flag, hflag = [], [], [], [0]*len(ckeys), [0]*len(hkeys)\n",
    "\n",
    "    print(\"getting all indices of hyperlinks in candidates\")\n",
    "    for j, K in enumerate(udhyperlinks.keys()):\n",
    "        HL = udhyperlinks[K]\n",
    "\n",
    "        for i, k in enumerate(ckeys):\n",
    "            hl = udcandidates[k]\n",
    "            if compare(HL, hl):\n",
    "                if hflag[j] == 0:\n",
    "                    hits.append([K,k])\n",
    "                    hflag[j] = 1\n",
    "                    flag[j] = 1\n",
    "\n",
    "    for i in range(len(flag)):\n",
    "        if flag[i] == 0:\n",
    "            misses.append(ckeys[i])\n",
    "    return hits, misses\n",
    "\n",
    "hits, misses =  getHitsandMisses(udhyperlinks, udcandidates)          "
   ]
  },
  {
   "cell_type": "code",
   "execution_count": 8,
   "metadata": {},
   "outputs": [],
   "source": [
    "assert(len(hits)==hyperlinks.shape[1])"
   ]
  },
  {
   "cell_type": "code",
   "execution_count": 9,
   "metadata": {},
   "outputs": [],
   "source": [
    "assert(len(hits) + len(misses) == candidates.shape[1])"
   ]
  },
  {
   "cell_type": "markdown",
   "metadata": {
    "nbpresent": {
     "id": "63a2d40f-9877-4b9e-be81-c2848d05dd16"
    }
   },
   "source": [
    "# sanity check"
   ]
  },
  {
   "cell_type": "code",
   "execution_count": 10,
   "metadata": {
    "nbpresent": {
     "id": "2ba67414-14b3-4559-ac80-83e7adde9cfa"
    }
   },
   "outputs": [
    {
     "name": "stderr",
     "output_type": "stream",
     "text": [
      "100%|██████████| 1242/1242 [00:17<00:00, 69.14it/s]\n",
      "100%|██████████| 2388/2388 [00:17<00:00, 138.53it/s]"
     ]
    },
    {
     "name": "stdout",
     "output_type": "stream",
     "text": [
      "failed!\n"
     ]
    },
    {
     "name": "stderr",
     "output_type": "stream",
     "text": [
      "\n"
     ]
    }
   ],
   "source": [
    "def sanityCheck(udhyperlinks, udcandidates, hits, misses):\n",
    "    compare = lambda x, y: collections.Counter(x) == collections.Counter(y)\n",
    "    flag = True\n",
    "    \n",
    "    for m in tqdm(misses):\n",
    "        HL = udcandidates[m]\n",
    "\n",
    "        for k in udhyperlinks.keys():\n",
    "            hl = udhyperlinks[k]\n",
    "            if compare(hl, HL):\n",
    "                flag = False\n",
    "                \n",
    "    for pair in tqdm(hits):\n",
    "        k = pair[1]\n",
    "        HL = udcandidates[k]\n",
    "        notFound = True\n",
    "\n",
    "        for k in udhyperlinks.keys():\n",
    "\n",
    "            hl = udhyperlinks[k]\n",
    "            if compare(hl, HL):\n",
    "                notFound = False\n",
    "                break\n",
    "        if notFound:\n",
    "            flag = False\n",
    "    \n",
    "    if flag:\n",
    "        print(\"sanity check successfull\")\n",
    "    else:\n",
    "        print(\"failed!\")\n",
    "\n",
    "sanityCheck(udhyperlinks, udcandidates, hits, misses)"
   ]
  },
  {
   "cell_type": "markdown",
   "metadata": {
    "nbpresent": {
     "id": "9847f032-601d-44ca-b524-6fbc2e480d68"
    }
   },
   "source": [
    "# construct S and U matrices"
   ]
  },
  {
   "cell_type": "code",
   "execution_count": 11,
   "metadata": {},
   "outputs": [],
   "source": [
    "def appendColumn(matrix, V, hyperedge):\n",
    "    column = np.zeros(V)\n",
    "    for node in hyperedge:\n",
    "        column[node] = 1\n",
    "    matrix.append(column)\n",
    "    return matrix"
   ]
  },
  {
   "cell_type": "code",
   "execution_count": 12,
   "metadata": {
    "nbpresent": {
     "id": "3356d410-9b43-4045-9164-3b226e831219"
    }
   },
   "outputs": [],
   "source": [
    "def getHyperlinksAndCandidates(udhyperlinks, udcandidates, hits, misses):\n",
    "    V = candidates.shape[0]\n",
    "    compare = lambda x, y: collections.Counter(x) == collections.Counter(y)\n",
    "    ST = [] # S transpose\n",
    "    UT = [] # U transpose\n",
    "\n",
    "\n",
    "    for pair in hits:\n",
    "        K, k = pair[0], pair[1]\n",
    "        HL, hl = udhyperlinks[K], udcandidates[k]\n",
    "\n",
    "        if compare(HL, hl) :\n",
    "            ST = appendColumn(ST, V, HL)\n",
    "            UT = appendColumn(UT, V, hl)\n",
    "\n",
    "        else:\n",
    "            print(\"wrong!\")\n",
    "\n",
    "\n",
    "    for m in misses:\n",
    "        hl = udcandidates[m]\n",
    "        UT = appendColumn(UT, V, hl)\n",
    "    \n",
    "    \n",
    "    return ST, UT\n",
    "\n",
    "ST, UT = getHyperlinksAndCandidates(udhyperlinks, udcandidates, hits, misses)"
   ]
  },
  {
   "cell_type": "code",
   "execution_count": 13,
   "metadata": {
    "nbpresent": {
     "id": "523a9bd6-b70c-465c-9ded-4e075f32c19e"
    }
   },
   "outputs": [
    {
     "name": "stdout",
     "output_type": "stream",
     "text": [
      "adding 3630 negative hyperlinks\n"
     ]
    }
   ],
   "source": [
    "import random\n",
    "def addNegativeHyperlinks(UT):\n",
    "    V = candidates.shape[0]\n",
    "    NHL = len(UT) # number of negative hyperlinks\n",
    "    print(\"adding\", NHL, \"negative hyperlinks\")\n",
    "    for i in range(NHL):\n",
    "        size = np.random.randint(4, 6)\n",
    "        sample = random.sample(range(V), size)\n",
    "        UT = appendColumn(UT, V, sample)\n",
    "    return UT\n",
    "\n",
    "UT = addNegativeHyperlinks(UT)\n",
    "\n",
    "S = np.transpose(np.array(ST))\n",
    "U = np.transpose(np.array(UT))"
   ]
  },
  {
   "cell_type": "code",
   "execution_count": 14,
   "metadata": {
    "nbpresent": {
     "id": "473ad06c-9186-4318-bb34-19d489c9392c"
    }
   },
   "outputs": [
    {
     "data": {
      "text/plain": [
       "'\\nSF = np.delete(S, zero_indices, 0)\\nUF = np.delete(U, zero_indices, 0)\\n'"
      ]
     },
     "execution_count": 14,
     "metadata": {},
     "output_type": "execute_result"
    }
   ],
   "source": [
    "zero_indices = []\n",
    "for i in range(U.shape[0]):\n",
    "    if U[i,:].sum() == 0:\n",
    "        zero_indices.append(i)\n",
    "'''\n",
    "SF = np.delete(S, zero_indices, 0)\n",
    "UF = np.delete(U, zero_indices, 0)\n",
    "'''"
   ]
  },
  {
   "cell_type": "code",
   "execution_count": 15,
   "metadata": {
    "nbpresent": {
     "id": "da010740-b1f2-4d70-924f-0ad366407964"
    }
   },
   "outputs": [
    {
     "data": {
      "text/plain": [
       "0"
      ]
     },
     "execution_count": 15,
     "metadata": {},
     "output_type": "execute_result"
    }
   ],
   "source": [
    "len(zero_indices)"
   ]
  },
  {
   "cell_type": "code",
   "execution_count": 16,
   "metadata": {
    "nbpresent": {
     "id": "0892b697-bcb9-4159-9d11-612946f04790"
    }
   },
   "outputs": [
    {
     "data": {
      "text/plain": [
       "(1668, 2388)"
      ]
     },
     "execution_count": 16,
     "metadata": {},
     "output_type": "execute_result"
    }
   ],
   "source": [
    "S.shape"
   ]
  },
  {
   "cell_type": "code",
   "execution_count": 17,
   "metadata": {
    "nbpresent": {
     "id": "ef831b96-4ce3-41c1-b9d9-3d8e1550e6df"
    }
   },
   "outputs": [
    {
     "data": {
      "text/plain": [
       "(1668, 7260)"
      ]
     },
     "execution_count": 17,
     "metadata": {},
     "output_type": "execute_result"
    }
   ],
   "source": [
    "U.shape"
   ]
  },
  {
   "cell_type": "code",
   "execution_count": 19,
   "metadata": {},
   "outputs": [],
   "source": [
    "import pickle\n",
    "path = \"./reactionsU/\" + alp2data[alp] + \"/\" + alp2data[alp]\n",
    "with open(path + \".hyperlinks.pkl\", 'wb') as handle:\n",
    "    pickle.dump(S, handle, protocol=pickle.HIGHEST_PROTOCOL)\n",
    "\n",
    "with open(path + \".candidates.pkl\", 'wb') as handle:\n",
    "    pickle.dump(U, handle, protocol=pickle.HIGHEST_PROTOCOL)"
   ]
  },
  {
   "cell_type": "markdown",
   "metadata": {
    "nbpresent": {
     "id": "e0fdfbc5-be4b-4cef-a5fb-bb5f5ccd8b67"
    }
   },
   "source": [
    "# \"r\" run all cells"
   ]
  },
  {
   "cell_type": "code",
   "execution_count": null,
   "metadata": {
    "nbpresent": {
     "id": "a21254e0-ff28-441c-8ca6-13f97343668b"
    }
   },
   "outputs": [],
   "source": [
    "get_ipython().run_cell_magic('javascript', '', \"\\nJupyter.keyboard_manager.command_shortcuts.add_shortcut('r', {\\n    help : 'run all cells',\\n    help_index : 'zz',\\n    handler : function (event) {\\n        IPython.notebook.execute_all_cells();\\n        return false;\\n    }}\\n);\")"
   ]
  },
  {
   "cell_type": "code",
   "execution_count": null,
   "metadata": {
    "nbpresent": {
     "id": "84d05994-7a4a-47b5-acb4-e513a8d19d35"
    }
   },
   "outputs": [],
   "source": []
  }
 ],
 "metadata": {
  "kernelspec": {
   "display_name": "Python [conda root]",
   "language": "python",
   "name": "conda-root-py"
  },
  "language_info": {
   "codemirror_mode": {
    "name": "ipython",
    "version": 3
   },
   "file_extension": ".py",
   "mimetype": "text/x-python",
   "name": "python",
   "nbconvert_exporter": "python",
   "pygments_lexer": "ipython3",
   "version": "3.6.4"
  }
 },
 "nbformat": 4,
 "nbformat_minor": 2
}
